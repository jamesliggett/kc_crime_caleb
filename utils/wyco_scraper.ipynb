{
 "cells": [
  {
   "cell_type": "code",
   "execution_count": 48,
   "metadata": {},
   "outputs": [],
   "source": [
    "import requests as req\n",
    "import pandas as pd"
   ]
  },
  {
   "cell_type": "code",
   "execution_count": 102,
   "metadata": {},
   "outputs": [],
   "source": [
    "WYCO_BASE_URL = 'http://ils.wycosheriff.org/InmateService.svc'\n",
    "\n",
    "Jail = 'WCDC2'\n",
    "Fields = 'ABCDEFGHIJMNPQRST1235'\n",
    "isLogin = 'false'\n",
    "\n",
    "def gen_key():\n",
    "    resp_gen_pass_key = req.get(WYCO_BASE_URL + '/GeneratePassKey')\n",
    "    pass_key_result = resp_gen_pass_key.json()['GeneratePassKeyResult']\n",
    "    return pass_key_result.split('|||')\n",
    "\n",
    "def get_inmates(key, ans):\n",
    "    resp_inmates = req.get(WYCO_BASE_URL+'/GetInmates2?Jail='+Jail+'&&key='+key+'&ans='+ans)\n",
    "    inmates_result = resp_inmates.json()['GetInmates2Result']\n",
    "    df_inmates = pd.DataFrame(inmates_result)\n",
    "    df_inmates.to_csv(Jail+'_inmates.csv')\n",
    "    return df_inmates\n",
    "\n",
    "# set load_count = 0 to load all\n",
    "def get_inmates_charges(df_inmates, key, ans, load_count):\n",
    "    df_charges = pd.DataFrame()\n",
    "    i = 0\n",
    "    for BookNo in df_inmates['BookNo']:\n",
    "        resp_charges = req.get(WYCO_BASE_URL+'/GetInmateCharges?Jail='+Jail+'&&bookno='+BookNo+'&Fields='+Fields+'&isLogin='+isLogin)\n",
    "        charges_result = resp_charges.json()['GetInmateChargesResult']\n",
    "        df = pd.DataFrame(charges_result)\n",
    "        df['BookNo'] = BookNo\n",
    "        df_charges = df_charges.append(df)\n",
    "        \n",
    "        i = i + 1\n",
    "        \n",
    "        if i % 20 == 0:\n",
    "            print('Loaded charges '+str(i)+' of '+str(len(df_inmates.index)))\n",
    "            \n",
    "        if load_count != 0 and i > load_count:\n",
    "            break;\n",
    "    \n",
    "    print('Done')\n",
    "    df_charges.to_csv(Jail+'_charges.csv', index=False)\n",
    "    return df_charges\n",
    "    \n",
    "#r = req.get('http://ils.wycosheriff.org/InmateService.svc/GetInmate?Jail='+Jail+'&&bookno='+BookNo+'&key='+Key+'&answer='+Ans+'&Fields='+Fields+'&isLogin='+isLogin)"
   ]
  },
  {
   "cell_type": "code",
   "execution_count": 103,
   "metadata": {},
   "outputs": [
    {
     "name": "stdout",
     "output_type": "stream",
     "text": [
      "Loaded 20 of 417\n",
      "Loaded 40 of 417\n",
      "Loaded 60 of 417\n",
      "Loaded 80 of 417\n",
      "Loaded 100 of 417\n",
      "Loaded 120 of 417\n",
      "Loaded 140 of 417\n",
      "Loaded 160 of 417\n",
      "Loaded 180 of 417\n",
      "Loaded 200 of 417\n",
      "Loaded 220 of 417\n",
      "Loaded 240 of 417\n",
      "Loaded 260 of 417\n",
      "Loaded 280 of 417\n",
      "Loaded 300 of 417\n",
      "Loaded 320 of 417\n",
      "Loaded 340 of 417\n",
      "Loaded 360 of 417\n",
      "Loaded 380 of 417\n",
      "Loaded 400 of 417\n",
      "Done\n"
     ]
    }
   ],
   "source": [
    "(key, ans) = gen_key()\n",
    "df_inmates = get_inmates(key, ans)\n",
    "df_charges = get_inmates_charges(df_inmates, key, ans, 0)\n",
    "\n",
    "df_inmates_charges = df_inmates.merge(df_charges, on='BookNo', how='left')\n",
    "df_inmates_charges.to_csv(Jail+'_inmates_charges.csv')"
   ]
  }
 ],
 "metadata": {
  "kernelspec": {
   "display_name": "Python 3",
   "language": "python",
   "name": "python3"
  },
  "language_info": {
   "codemirror_mode": {
    "name": "ipython",
    "version": 3
   },
   "file_extension": ".py",
   "mimetype": "text/x-python",
   "name": "python",
   "nbconvert_exporter": "python",
   "pygments_lexer": "ipython3",
   "version": "3.6.3"
  }
 },
 "nbformat": 4,
 "nbformat_minor": 2
}
